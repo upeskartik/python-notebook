{
 "cells": [
  {
   "cell_type": "markdown",
   "metadata": {},
   "source": [
    "# BOOTSTRAPPING"
   ]
  },
  {
   "cell_type": "code",
   "execution_count": 13,
   "metadata": {},
   "outputs": [],
   "source": [
    "def bootstrapping(attempts,samples,train):\n",
    "    X=[]\n",
    "    attribute_list=list(train)\n",
    "    for j,i in train.iterrows():\n",
    "        lst=[]\n",
    "        if i[\"attempts_range\"]==attempts:\n",
    "            for k in range(len(attribute_list)):\n",
    "                lst.append(i[attribute_list[k]])\n",
    "            X.append(lst)   \n",
    "    df = pd.DataFrame(X,columns=attribute_list) \n",
    "    def bootstrap_resample(X, n=None):\n",
    "        if n == None:\n",
    "            n = len(X)\n",
    "        \n",
    "        resample_i = np.floor(np.random.rand(n)*len(X)).astype(int)\n",
    "        X_resample = X[resample_i]\n",
    "        return X_resample  \n",
    "    boot_list=[]\n",
    "    for i in range(8):\n",
    "        boot_list.append(list(bootstrap_resample(df[attribute_list[i]],n=500)))\n",
    "    new_boot_list=[]\n",
    "    for i in range(samples):\n",
    "        lst=[]\n",
    "        for j in range(8):\n",
    "            lst.append(boot_list[j][i])\n",
    "        new_boot_list.append(lst)\n",
    "    boot_df = pd.DataFrame(new_boot_list,columns=attribute_list)\n",
    "    train = pd.concat([train,boot_df])\n",
    "    return train\n",
    "  "
   ]
  }
 ],
 "metadata": {
  "kernelspec": {
   "display_name": "Python 3",
   "language": "python",
   "name": "python3"
  },
  "language_info": {
   "codemirror_mode": {
    "name": "ipython",
    "version": 3
   },
   "file_extension": ".py",
   "mimetype": "text/x-python",
   "name": "python",
   "nbconvert_exporter": "python",
   "pygments_lexer": "ipython3",
   "version": "3.5.5"
  }
 },
 "nbformat": 4,
 "nbformat_minor": 2
}
